{
 "cells": [
  {
   "cell_type": "code",
   "execution_count": 86,
   "metadata": {},
   "outputs": [],
   "source": [
    "import jax\n",
    "jax.config.update(\"jax_enable_x64\", True)\n",
    "\n",
    "import jax.numpy as jnp\n",
    "from jax import random, jit\n",
    "from jax.lax import fori_loop\n",
    "from functools import partial\n",
    "import matplotlib.pyplot as plt"
   ]
  },
  {
   "cell_type": "code",
   "execution_count": 87,
   "metadata": {},
   "outputs": [],
   "source": [
    "@jax.jit\n",
    "def thomas_algorithm(a, b, c, d):\n",
    "    \"\"\"\n",
    "    General Thomas algorithm for solving tridiagonal matrix systems.\n",
    "    \n",
    "    Parameters:\n",
    "    a (jnp.array): lower diagonal (first element is ignored)\n",
    "    b (jnp.array): main diagonal\n",
    "    c (jnp.array): upper diagonal (last element is ignored)\n",
    "    d (jnp.array): right-hand side\n",
    "    \n",
    "    Returns:\n",
    "    jnp.array: solution vector\n",
    "    \"\"\"\n",
    "    n = b.shape[0]\n",
    "    # Forward elimination\n",
    "    def forward_elimination(i, carry):\n",
    "        c_prime, d_prime = carry\n",
    "        c_prime_i = c[i] / (b[i] - a[i] * c_prime[i-1])\n",
    "        d_prime_i = (d[i] - a[i] * d_prime[i-1]) / (b[i] - a[i] * c_prime[i-1])\n",
    "        c_prime = c_prime.at[i].set(c_prime_i)\n",
    "        d_prime = d_prime.at[i].set(d_prime_i)\n",
    "        return c_prime, d_prime\n",
    "    # Back substitution\n",
    "    def back_substitution(j, x):\n",
    "        i = n - j - 1\n",
    "        x_i = d_prime[i] - c_prime[i] * x[i+1]\n",
    "        x = x.at[i].set(x_i)\n",
    "        return x\n",
    "    \n",
    "    c_prime = jnp.zeros_like(b)\n",
    "    c_prime = c_prime.at[0].set(c[0] / b[0])\n",
    "    d_prime = jnp.zeros_like(d)\n",
    "    d_prime = d_prime.at[0].set(d[0] / b[0])\n",
    "    c_prime, d_prime = fori_loop(1, n, forward_elimination, (c_prime, d_prime))\n",
    "    x = jnp.zeros_like(d)\n",
    "    x = x.at[-1].set(d_prime[-1])\n",
    "    return fori_loop(1, n, back_substitution, x)"
   ]
  },
  {
   "cell_type": "markdown",
   "metadata": {},
   "source": [
    "## Asian Call Option\n",
    "\n",
    "- PDE\n",
    "$$\n",
    "\\frac{\\partial V}{\\partial t} + rS\\frac{\\partial V}{\\partial S} + \\frac{S - A}{t}\\frac{\\partial V}{\\partial A}+ \\frac{1}{2}\\sigma^2 S^2 \\frac{\\partial^2 V}{\\partial S^2} - rV = 0\n",
    "$$\n",
    "- Change of numeraire\n",
    "$$\n",
    "\\frac{\\partial g}{\\partial t} + \\frac{1}{2}\\sigma^2 (\\gamma(t) - y) ^ {2}\\frac{\\partial^2 g}{\\partial S^2} = 0,\n",
    "\\quad \\gamma(t)=\\frac{1 - e^{-r(T-t)}}{rT}\n",
    "$$\n",
    "- discretization\n",
    "$$\n",
    "g^{n+1}_{i} = a^{n}_{i}g^{n}_{i-1} + b^{n}_{i}g^{n}_{i} + a^{n}_{i}g^{n}_{i+1},\\\\\n",
    "a^{n}_{i} = -\\frac{1}{2}\\sigma^{2}\\frac{\\Delta t}{\\Delta y^{2}}(\\gamma(t_n) - y_{i})^{2},\n",
    "\\quad b^{n}_{i} = 1 + \\sigma^{2}\\frac{\\Delta t}{\\Delta y^{2}}(\\gamma(t_n) - y_{i})^{2}\n",
    "$$"
   ]
  },
  {
   "cell_type": "code",
   "execution_count": 88,
   "metadata": {},
   "outputs": [],
   "source": [
    "class FixedStrikeArithmeticAsianCallOption:\n",
    "    def __init__(self, strike: float, free_rate: float, volatility: float, maturity: float) -> None:\n",
    "        self.strike = strike\n",
    "        self.free_rate = free_rate\n",
    "        self.volatility = volatility\n",
    "        self.maturity = maturity\n",
    "        \n",
    "    def payoff(self, spot_avg: float) -> float:\n",
    "        return jnp.maximum(spot_avg - self.strike, 0)\n",
    "        \n",
    "    def price_analytic(self, spot: float) -> float:\n",
    "        raise NotImplementedError(\"Analytic price is not available for Asian options.\")\n",
    "    \n",
    "    def price_monte_carlo(self, spot: float, n_samples: int, n_time: int, key: random.PRNGKey) -> float:\n",
    "        key, subkey = random.split(key)\n",
    "        # create geometric brownian motion samples, numbers=n_samples\n",
    "        dt = self.maturity / n_time\n",
    "        random_normals = random.normal(subkey, (n_samples, n_time - 1))\n",
    "        paths = spot * jnp.exp(jnp.concatenate([\n",
    "            jnp.zeros((n_samples, 1)),\n",
    "            (self.free_rate - 0.5 * self.volatility ** 2) * dt + random_normals * jnp.sqrt(dt) * self.volatility\n",
    "        ], axis=1).cumsum(axis=1))\n",
    "        spot_avg = paths.mean(axis=1)\n",
    "        return jnp.exp(-self.free_rate * self.maturity) * self.payoff(spot_avg).mean()\n",
    "    \n",
    "    def price_binomial_tree(self, spot: float, n_steps: int) -> float:\n",
    "        raise NotImplementedError(\"Binomial tree price is not available for Asian options.\")\n",
    "    \n",
    "    def price_pde(self, spot: float, n_time: int, n_space: int) -> float:\n",
    "        ts, dt = jnp.linspace(0, self.maturity, n_time, retstep=True)\n",
    "        y_min, y_max = -30, 30\n",
    "        ys, dy = jnp.linspace(y_min, y_max, n_space, retstep=True)\n",
    "        # pde setup\n",
    "        gamma_fn = lambda t: (1 - jnp.exp(-self.free_rate * (self.maturity - t))) / self.free_rate / self.maturity\n",
    "        spot2y = lambda s: (gamma_fn(0) * s - jnp.exp(-self.free_rate * self.maturity) * self.strike) / s\n",
    "        G = jnp.maximum(ys, 0)[1:-1]\n",
    "        boundary_upper = y_max\n",
    "        # backward induction\n",
    "        @jit\n",
    "        def backward_fn(j, G):\n",
    "            i = n_time - j\n",
    "            a = -0.5 * self.volatility ** 2 * (gamma_fn(ts[i]) - ys[1:-1]) ** 2 * dt / dy ** 2\n",
    "            b = 1 + self.volatility ** 2 * (gamma_fn(ts[i]) - ys[1:-1]) ** 2 * dt / dy ** 2\n",
    "            G = G.at[-1].add(-a[-1] * boundary_upper)\n",
    "            return thomas_algorithm(a, b, a, G)\n",
    "        G = fori_loop(1, n_time, backward_fn, G)\n",
    "        # from G to option price\n",
    "        return spot * jnp.interp(spot2y(spot), ys[1:-1], G)"
   ]
  },
  {
   "cell_type": "code",
   "execution_count": 89,
   "metadata": {},
   "outputs": [],
   "source": [
    "option = FixedStrikeArithmeticAsianCallOption(strike=100, free_rate=0.1, volatility=0.2, maturity=1)"
   ]
  },
  {
   "cell_type": "code",
   "execution_count": 90,
   "metadata": {},
   "outputs": [
    {
     "name": "stdout",
     "output_type": "stream",
     "text": [
      "Monte Carlo price: 6.947338423036057\n",
      "PDE price: 7.039940914669806\n"
     ]
    }
   ],
   "source": [
    "spot = 100\n",
    "print(\"Monte Carlo price:\", option.price_monte_carlo(spot, 10000, 1000, random.PRNGKey(0)))\n",
    "print(\"PDE price:\", option.price_pde(spot, 1000, 6000))"
   ]
  },
  {
   "cell_type": "code",
   "execution_count": 91,
   "metadata": {},
   "outputs": [],
   "source": [
    "spots = jnp.linspace(80, 120, 100)\n",
    "prices_mc = jax.vmap(partial(option.price_monte_carlo, n_samples=10000, n_time=1000, key=random.PRNGKey(0)), in_axes=0)(spots)\n",
    "prices_pde = option.price_pde(spots, 1000, 6000)"
   ]
  },
  {
   "cell_type": "code",
   "execution_count": 85,
   "metadata": {},
   "outputs": [
    {
     "data": {
      "image/png": "[encoded data removed]",
      "text/plain": [
       "<Figure size 640x480 with 1 Axes>"
      ]
     },
     "metadata": {},
     "output_type": "display_data"
    }
   ],
   "source": [
    "plt.plot(spots, prices_mc, label=\"Monte Carlo\")\n",
    "plt.plot(spots, prices_pde, label=\"PDE\")\n",
    "plt.xlabel(\"Spot\")\n",
    "plt.ylabel(\"Price\")\n",
    "plt.legend()\n",
    "plt.show()"
   ]
  },
  {
   "cell_type": "code",
   "execution_count": null,
   "metadata": {},
   "outputs": [],
   "source": []
  }
 ],
 "metadata": {
  "language_info": {
   "name": "python"
  }
 },
 "nbformat": 4,
 "nbformat_minor": 2
}
