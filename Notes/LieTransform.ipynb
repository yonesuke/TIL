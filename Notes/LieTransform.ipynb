{
 "cells": [
  {
   "cell_type": "code",
   "execution_count": 1,
   "metadata": {},
   "outputs": [],
   "source": [
    "from sympy import *\n",
    "import math\n",
    "init_printing()"
   ]
  },
  {
   "cell_type": "code",
   "execution_count": 2,
   "metadata": {},
   "outputs": [],
   "source": [
    "x=IndexedBase('x')\n",
    "y=IndexedBase('y')\n",
    "p=IndexedBase('p')\n",
    "q=IndexedBase('q')\n",
    "alpha,omega,lam=symbols('α,ω,λ')\n",
    "pr,pz,r,z=symbols('p_r,p_z,r,z')\n",
    "a,b,c=symbols('a,b,c')"
   ]
  },
  {
   "cell_type": "code",
   "execution_count": 3,
   "metadata": {},
   "outputs": [
    {
     "data": {
      "image/png": "[encoded data removed]",
      "text/latex": [
       "$$\\frac{p_{r}^{2}}{4} + \\frac{p_{z}^{2} \\left(α + 2\\right)}{4 α} - \\frac{2}{\\sqrt{r^{2} + z^{2}}} - \\frac{1}{2 r α} + \\frac{ω^{2}}{4 r^{2}}$$"
      ],
      "text/plain": [
       "  2      2                                    2 \n",
       "pᵣ    p_z ⋅(α + 2)        2           1      ω  \n",
       "─── + ──────────── - ──────────── - ───── + ────\n",
       " 4        4⋅α           _________   2⋅r⋅α      2\n",
       "                       ╱  2    2            4⋅r \n",
       "                     ╲╱  r  + z                 "
      ]
     },
     "execution_count": 3,
     "metadata": {},
     "output_type": "execute_result"
    }
   ],
   "source": [
    "H=pr*pr/4+omega*omega/(4*r*r)+(alpha+2)*pz*pz/(4*alpha)-1/(2*alpha*r)-2/sqrt(r*r+z*z);H"
   ]
  },
  {
   "cell_type": "code",
   "execution_count": 4,
   "metadata": {},
   "outputs": [
    {
     "data": {
      "image/png": "[encoded data removed]",
      "text/latex": [
       "$$\\frac{ω^{2}}{4 \\left(a q_{1} + b\\right)^{2}} - \\frac{2}{\\sqrt{c^{2} q_{2}^{2} + \\left(a q_{1} + b\\right)^{2}}} - \\frac{1}{2 α \\left(a q_{1} + b\\right)} + \\frac{\\left(α + 2\\right) p_{2}^{2}}{4 c^{2} α} + \\frac{p_{1}^{2}}{4 a^{2}}$$"
      ],
      "text/plain": [
       "        2                                                                     \n",
       "       ω                        2                        1           (α + 2)⋅p\n",
       "─────────────── - ───────────────────────────── - ──────────────── + ─────────\n",
       "              2      __________________________   2⋅α⋅(a⋅q[1] + b)          2 \n",
       "4⋅(a⋅q[1] + b)      ╱  2     2               2                           4⋅c ⋅\n",
       "                  ╲╱  c ⋅q[2]  + (a⋅q[1] + b)                                 \n",
       "\n",
       "   2       2\n",
       "[2]    p[1] \n",
       "──── + ─────\n",
       "           2\n",
       "α       4⋅a \n",
       "            "
      ]
     },
     "execution_count": 4,
     "metadata": {},
     "output_type": "execute_result"
    }
   ],
   "source": [
    "H.subs(r,a*q[1]+b).subs(pr,p[1]/a).subs(z,c*q[2]).subs(pz,p[2]/c)"
   ]
  },
  {
   "cell_type": "code",
   "execution_count": 5,
   "metadata": {},
   "outputs": [
    {
     "data": {
      "image/png": "[encoded data removed]",
      "text/latex": [
       "$$\\frac{p_{r}^{2}}{4} + \\frac{p_{z}^{2} \\left(α + 2\\right)}{4 α} - \\frac{2}{\\sqrt{r^{2}}} - \\frac{1}{2 r α} + \\frac{z^{2}}{r^{2} \\sqrt{r^{2}}} + \\frac{ω^{2}}{4 r^{2}} - \\frac{3 z^{4}}{4 r^{4} \\sqrt{r^{2}}}$$"
      ],
      "text/plain": [
       "  2      2                                  2         2           4    \n",
       "pᵣ    p_z ⋅(α + 2)      2        1         z         ω         3⋅z     \n",
       "─── + ──────────── - ─────── - ───── + ────────── + ──── - ────────────\n",
       " 4        4⋅α           ____   2⋅r⋅α         ____      2           ____\n",
       "                       ╱  2             2   ╱  2    4⋅r       4   ╱  2 \n",
       "                     ╲╱  r             r ⋅╲╱  r            4⋅r ⋅╲╱  r  "
      ]
     },
     "execution_count": 5,
     "metadata": {},
     "output_type": "execute_result"
    }
   ],
   "source": [
    "H_taylor=series(H,z).removeO();H_taylor"
   ]
  },
  {
   "cell_type": "code",
   "execution_count": 6,
   "metadata": {},
   "outputs": [
    {
     "data": {
      "image/png": "[encoded data removed]",
      "text/latex": [
       "$$- \\frac{2}{\\sqrt{\\frac{1}{b^{2}}}} + \\left(r - \\frac{1}{b}\\right) \\left(\\frac{15 b^{5} z^{4}}{4 \\sqrt{\\frac{1}{b^{2}}}} - \\frac{3 b^{3}}{\\sqrt{\\frac{1}{b^{2}}}} z^{2} - \\frac{b^{3} ω^{2}}{2} + \\frac{b^{2}}{2 α} + \\frac{2 b}{\\sqrt{\\frac{1}{b^{2}}}}\\right) + \\left(r - \\frac{1}{b}\\right)^{2} \\left(- \\frac{45 b^{6} z^{4}}{4 \\sqrt{\\frac{1}{b^{2}}}} + \\frac{6 b^{4}}{\\sqrt{\\frac{1}{b^{2}}}} z^{2} + \\frac{3 b^{4}}{4} ω^{2} - \\frac{b^{3}}{2 α} - \\frac{2 b^{2}}{\\sqrt{\\frac{1}{b^{2}}}}\\right) + \\left(r - \\frac{1}{b}\\right)^{3} \\left(\\frac{105 b^{7} z^{4}}{4 \\sqrt{\\frac{1}{b^{2}}}} - \\frac{10 b^{5}}{\\sqrt{\\frac{1}{b^{2}}}} z^{2} - b^{5} ω^{2} + \\frac{b^{4}}{2 α} + \\frac{2 b^{3}}{\\sqrt{\\frac{1}{b^{2}}}}\\right) + \\left(r - \\frac{1}{b}\\right)^{4} \\left(- \\frac{105 b^{8} z^{4}}{2 \\sqrt{\\frac{1}{b^{2}}}} + \\frac{15 b^{6}}{\\sqrt{\\frac{1}{b^{2}}}} z^{2} + \\frac{5 b^{6}}{4} ω^{2} - \\frac{b^{5}}{2 α} - \\frac{2 b^{4}}{\\sqrt{\\frac{1}{b^{2}}}}\\right) + \\frac{p_{z}^{2} \\left(α + 2\\right)}{4 α} + \\frac{p_{r}^{2}}{4} - \\frac{b}{2 α} + \\frac{b^{2} ω^{2}}{4} + \\frac{b^{2} z^{2}}{\\sqrt{\\frac{1}{b^{2}}}} - \\frac{3 b^{4} z^{4}}{4 \\sqrt{\\frac{1}{b^{2}}}} + \\mathcal{O}\\left(\\left(r - \\frac{1}{b}\\right)^{5}; r\\rightarrow \\frac{1}{b}\\right)$$"
      ],
      "text/plain": [
       "                      ⎛      5  4        3  2     3  2     2            ⎞     \n",
       "      2       ⎛    1⎞ ⎜  15⋅b ⋅z      3⋅b ⋅z     b ⋅ω     b       2⋅b   ⎟   ⎛ \n",
       "- ───────── + ⎜r - ─⎟⋅⎜─────────── - ───────── - ───── + ─── + ─────────⎟ + ⎜r\n",
       "       ____   ⎝    b⎠ ⎜       ____        ____     2     2⋅α        ____⎟   ⎝ \n",
       "      ╱ 1             ⎜      ╱ 1         ╱ 1                       ╱ 1  ⎟     \n",
       "     ╱  ──            ⎜4⋅   ╱  ──       ╱  ──                     ╱  ── ⎟     \n",
       "    ╱    2            ⎜    ╱    2      ╱    2                    ╱    2 ⎟     \n",
       "  ╲╱    b             ⎝  ╲╱    b     ╲╱    b                   ╲╱    b  ⎠     \n",
       "\n",
       "     2 ⎛        6  4        4  2       4  2     3         2  ⎞          3 ⎛   \n",
       "   1⎞  ⎜    45⋅b ⋅z      6⋅b ⋅z     3⋅b ⋅ω     b       2⋅b   ⎟   ⎛    1⎞  ⎜ 10\n",
       " - ─⎟ ⋅⎜- ─────────── + ───────── + ─────── - ─── - ─────────⎟ + ⎜r - ─⎟ ⋅⎜───\n",
       "   b⎠  ⎜         ____        ____      4      2⋅α        ____⎟   ⎝    b⎠  ⎜   \n",
       "       ⎜        ╱ 1         ╱ 1                         ╱ 1  ⎟            ⎜   \n",
       "       ⎜  4⋅   ╱  ──       ╱  ──                       ╱  ── ⎟            ⎜4⋅ \n",
       "       ⎜      ╱    2      ╱    2                      ╱    2 ⎟            ⎜   \n",
       "       ⎝    ╲╱    b     ╲╱    b                     ╲╱    b  ⎠            ⎝  ╲\n",
       "\n",
       "   7  4         5  2             4         3  ⎞          4 ⎛        8  4      \n",
       "5⋅b ⋅z      10⋅b ⋅z     5  2    b       2⋅b   ⎟   ⎛    1⎞  ⎜   105⋅b ⋅z      1\n",
       "──────── - ───────── - b ⋅ω  + ─── + ─────────⎟ + ⎜r - ─⎟ ⋅⎜- ─────────── + ──\n",
       "    ____        ____           2⋅α        ____⎟   ⎝    b⎠  ⎜         ____     \n",
       "   ╱ 1         ╱ 1                       ╱ 1  ⎟            ⎜        ╱ 1       \n",
       "  ╱  ──       ╱  ──                     ╱  ── ⎟            ⎜  2⋅   ╱  ──      \n",
       " ╱    2      ╱    2                    ╱    2 ⎟            ⎜      ╱    2      \n",
       "╱    b     ╲╱    b                   ╲╱    b  ⎠            ⎝    ╲╱    b     ╲╱\n",
       "\n",
       "   6  2      6  2     5         4  ⎞      2             2          2  2      2\n",
       "5⋅b ⋅z    5⋅b ⋅ω     b       2⋅b   ⎟   p_z ⋅(α + 2)   pᵣ     b    b ⋅ω      b \n",
       "─────── + ─────── - ─── - ─────────⎟ + ──────────── + ─── - ─── + ───── + ────\n",
       "   ____      4      2⋅α        ____⎟       4⋅α         4    2⋅α     4         \n",
       "  ╱ 1                         ╱ 1  ⎟                                          \n",
       " ╱  ──                       ╱  ── ⎟                                         ╱\n",
       "╱    2                      ╱    2 ⎟                                        ╱ \n",
       "    b                     ╲╱    b  ⎠                                      ╲╱  \n",
       "\n",
       "  2          4  4      ⎛       5       ⎞\n",
       "⋅z        3⋅b ⋅z       ⎜⎛    1⎞       1⎟\n",
       "───── - ─────────── + O⎜⎜r - ─⎟ ; r → ─⎟\n",
       " ____          ____    ⎝⎝    b⎠       b⎠\n",
       "╱ 1           ╱ 1                       \n",
       "  ──    4⋅   ╱  ──                      \n",
       "   2        ╱    2                      \n",
       "  b       ╲╱    b                       "
      ]
     },
     "execution_count": 6,
     "metadata": {},
     "output_type": "execute_result"
    }
   ],
   "source": [
    "series(H_taylor,r,1/b,5)"
   ]
  },
  {
   "cell_type": "code",
   "execution_count": 25,
   "metadata": {},
   "outputs": [
    {
     "data": {
      "image/png": "[encoded data removed]",
      "text/latex": [
       "$$\\frac{1}{\\sqrt{r^{2} + z^{2}}}$$"
      ],
      "text/plain": [
       "     1      \n",
       "────────────\n",
       "   _________\n",
       "  ╱  2    2 \n",
       "╲╱  r  + z  "
      ]
     },
     "execution_count": 25,
     "metadata": {},
     "output_type": "execute_result"
    }
   ],
   "source": [
    "hoge=1/sqrt(r*r+z*z)\n",
    "hoge"
   ]
  },
  {
   "cell_type": "code",
   "execution_count": 27,
   "metadata": {},
   "outputs": [
    {
     "data": {
      "image/png": "[encoded data removed]",
      "text/latex": [
       "$$\\frac{3 r^{4}}{8 z^{5}} - \\frac{r^{2}}{2 z^{3}} + \\frac{1}{z}$$"
      ],
      "text/plain": [
       "   4     2     \n",
       "3⋅r     r     1\n",
       "──── - ──── + ─\n",
       "   5      3   z\n",
       "8⋅z    2⋅z     "
      ]
     },
     "execution_count": 27,
     "metadata": {},
     "output_type": "execute_result"
    }
   ],
   "source": [
    "series(series(hoge,r).removeO(),z)"
   ]
  },
  {
   "cell_type": "code",
   "execution_count": 28,
   "metadata": {},
   "outputs": [],
   "source": [
    "def mtaylor(funexpr,x,mu,order=1):\n",
    "\n",
    "    nvars = len(x)\n",
    "    hlist = ['__h' + str(i+1) for i in range(nvars)]\n",
    "    command=''\n",
    "    command=\"symbols('\"+'  '.join(hlist) +\"')\"\n",
    "    hvar = eval(command)\n",
    "    #mtaylor is utaylor for specificly defined function\n",
    "    t = symbols('t')\n",
    "    #substitution\n",
    "    loc_funexpr = funexpr\n",
    "    for i in range(nvars):\n",
    "        locvar = x[i]\n",
    "        locsubs = mu[i]+t*hvar[i]\n",
    "        loc_funexpr = loc_funexpr.subs(locvar,locsubs)\n",
    "    #calculate taylorseries\n",
    "    g = 0\n",
    "    for i in range(order+1):\n",
    "        g+=loc_funexpr.diff(t,i).subs(t,0)*t**i/math.factorial(i)\n",
    "\n",
    "    #resubstitute\n",
    "    for i in range(nvars):\n",
    "        g = g.subs(hlist[i],x[i]-mu[i])\n",
    "\n",
    "    g = g.subs(t,1)    \n",
    "    return g"
   ]
  },
  {
   "cell_type": "code",
   "execution_count": 42,
   "metadata": {},
   "outputs": [],
   "source": [
    "x1,x2,x3,x4,x5 = symbols('x1 x2 x3 x4 x5')\n",
    "funexpr=1/(x1*x1+x2*x2)\n",
    "x=[x1,x2,x3,x4,x5]\n",
    "mu=[1,0,0,0,0]\n",
    "mygee = mtaylor(funexpr,x,mu,order=4)"
   ]
  },
  {
   "cell_type": "code",
   "execution_count": 43,
   "metadata": {},
   "outputs": [
    {
     "data": {
      "image/png": "[encoded data removed]",
      "text/latex": [
       "$$- 2 x_{1} - x_{2}^{2} + 16 \\left(x_{1} - 1\\right)^{4} - 12 \\left(x_{1} - 1\\right)^{2} \\left(x_{2}^{2} + \\left(x_{1} - 1\\right)^{2}\\right) + 3 \\left(x_{1} - 1\\right)^{2} + 4 \\left(x_{1} - 1\\right) \\left(x_{2}^{2} - \\left(x_{1} - 1\\right)^{2}\\right) + \\left(x_{2}^{2} + \\left(x_{1} - 1\\right)^{2}\\right)^{2} + 3$$"
      ],
      "text/plain": [
       "                                                                              \n",
       "          2              4              2 ⎛  2           2⎞             2     \n",
       "-2⋅x₁ - x₂  + 16⋅(x₁ - 1)  - 12⋅(x₁ - 1) ⋅⎝x₂  + (x₁ - 1) ⎠ + 3⋅(x₁ - 1)  + 4⋅\n",
       "\n",
       "                                              2    \n",
       "         ⎛  2           2⎞   ⎛  2           2⎞     \n",
       "(x₁ - 1)⋅⎝x₂  - (x₁ - 1) ⎠ + ⎝x₂  + (x₁ - 1) ⎠  + 3"
      ]
     },
     "execution_count": 43,
     "metadata": {},
     "output_type": "execute_result"
    }
   ],
   "source": [
    "mygee"
   ]
  },
  {
   "cell_type": "code",
   "execution_count": null,
   "metadata": {},
   "outputs": [],
   "source": [
    "a=omega**(3/2)*alpha/(4*alpha+1)\n",
    "b=omega**2*alpha/(4*alpha+1)\n",
    "c=omega**1.5*alpha**0.5*(alpha+2)**0.25/(sqrt(2)*(4*alpha+1)**0.75)"
   ]
  }
 ],
 "metadata": {
  "kernelspec": {
   "display_name": "Python 3",
   "language": "python",
   "name": "python3"
  },
  "language_info": {
   "codemirror_mode": {
    "name": "ipython",
    "version": 3
   },
   "file_extension": ".py",
   "mimetype": "text/x-python",
   "name": "python",
   "nbconvert_exporter": "python",
   "pygments_lexer": "ipython3",
   "version": "3.6.5"
  }
 },
 "nbformat": 4,
 "nbformat_minor": 2
}
