{
 "cells": [
  {
   "cell_type": "code",
   "execution_count": 74,
   "metadata": {},
   "outputs": [
    {
     "data": {
      "text/plain": [
       "(a, b, c)"
      ]
     },
     "execution_count": 74,
     "metadata": {},
     "output_type": "execute_result"
    }
   ],
   "source": [
    "var('x1,x2,y1,y2,p1,p2,q1,q2')\n",
    "var('alpha,omega,delta')\n",
    "var('p_r,p_z,r,z')\n",
    "var('a,b,c')"
   ]
  },
  {
   "cell_type": "code",
   "execution_count": 2,
   "metadata": {},
   "outputs": [],
   "source": [
    "a=omega^(3/2)*alpha/(4*alpha+1)\n",
    "b=omega^2*alpha/(4*alpha+1)\n",
    "c=omega^(3/2)*alpha^(1/2)*(alpha+2)^(1/4)/(sqrt(2)*(4*alpha+1)^(3/4))"
   ]
  },
  {
   "cell_type": "code",
   "execution_count": 3,
   "metadata": {},
   "outputs": [
    {
     "data": {
      "text/html": [
       "<html><script type=\"math/tex; mode=display\">\\newcommand{\\Bold}[1]{\\mathbf{#1}}\\frac{1}{4} \\, p_{r}^{2} + \\frac{{\\left(\\alpha + 2\\right)} p_{z}^{2}}{4 \\, \\alpha} + \\frac{\\omega^{2}}{4 \\, r^{2}} - \\frac{2}{\\sqrt{r^{2} + z^{2}}} - \\frac{1}{2 \\, \\alpha r}</script></html>"
      ],
      "text/plain": [
       "1/4*p_r^2 + 1/4*(alpha + 2)*p_z^2/alpha + 1/4*omega^2/r^2 - 2/sqrt(r^2 + z^2) - 1/2/(alpha*r)"
      ]
     },
     "metadata": {},
     "output_type": "display_data"
    }
   ],
   "source": [
    "H=p_r*p_r/4+omega*omega/(4*r*r)+(alpha+2)*p_z*p_z/(4*alpha)-1/(2*alpha*r)-2/sqrt(r*r+z*z);show(H)"
   ]
  },
  {
   "cell_type": "code",
   "execution_count": 4,
   "metadata": {},
   "outputs": [],
   "source": [
    "H=H.substitute(r=a*q1+b,p_r=p1/a,z=c*q2,p_z=p2/c)"
   ]
  },
  {
   "cell_type": "code",
   "execution_count": 5,
   "metadata": {},
   "outputs": [],
   "source": [
    "H=taylor(H,(q1,0),(q2,0),(p1,0),(p2,0),6)"
   ]
  },
  {
   "cell_type": "code",
   "execution_count": 6,
   "metadata": {},
   "outputs": [],
   "source": [
    "H=simplify(expand(H.substitute(p1=(x1-I*y1)/sqrt(2),q1=(-I*x1+y1)/sqrt(2),p2=(x2-I*y2)/sqrt(2),q2=(-I*x2+y2)/sqrt(2))))"
   ]
  },
  {
   "cell_type": "code",
   "execution_count": 7,
   "metadata": {},
   "outputs": [],
   "source": [
    "import itertools\n",
    "gen=list(range(10))\n",
    "gen_lists=itertools.product(gen,repeat=4)\n",
    "list2,list3,list4,list5,list6=[],[],[],[],[]\n",
    "for gen_list in gen_lists:\n",
    "    if sum(gen_list)==2:\n",
    "        list2.append(gen_list)\n",
    "    elif sum(gen_list)==3:\n",
    "        list3.append(gen_list)\n",
    "    elif sum(gen_list)==4:\n",
    "        list4.append(gen_list)\n",
    "    elif sum(gen_list)==5:\n",
    "        list5.append(gen_list)\n",
    "    elif sum(gen_list)==6:\n",
    "        list6.append(gen_list)"
   ]
  },
  {
   "cell_type": "code",
   "execution_count": 8,
   "metadata": {},
   "outputs": [],
   "source": [
    "h=[]\n",
    "h.append([])\n",
    "x=[x1,x2,y1,y2]\n",
    "h2,h3,h4,h5,h6=0,0,0,0,0\n",
    "for deg in list2:\n",
    "    tmp=H\n",
    "    for num,i in enumerate(deg):\n",
    "        tmp=tmp.coefficient(x[num],i)\n",
    "    try:\n",
    "        tmp=factor(tmp.simplify_full())\n",
    "    except:\n",
    "        pass\n",
    "    for num,i in enumerate(deg):\n",
    "        tmp*=x[num]^i\n",
    "    h2+=tmp\n",
    "h[0].append(h2)\n",
    "for deg in list3:\n",
    "    tmp=H\n",
    "    for num,i in enumerate(deg):\n",
    "        tmp=tmp.coefficient(x[num],i)\n",
    "    try:\n",
    "        tmp=factor(tmp.simplify_full())\n",
    "    except:\n",
    "        pass\n",
    "    for num,i in enumerate(deg):\n",
    "        tmp*=x[num]^i\n",
    "    h3+=tmp\n",
    "h[0].append(h3)\n",
    "for deg in list4:\n",
    "    tmp=H\n",
    "    for num,i in enumerate(deg):\n",
    "        tmp=tmp.coefficient(x[num],i)\n",
    "    try:\n",
    "        tmp=factor(tmp.simplify_full())\n",
    "    except:\n",
    "        pass\n",
    "    for num,i in enumerate(deg):\n",
    "        tmp*=x[num]^i\n",
    "    h4+=tmp\n",
    "h[0].append(h4)\n",
    "for deg in list5:\n",
    "    tmp=H\n",
    "    for num,i in enumerate(deg):\n",
    "        tmp=tmp.coefficient(x[num],i)\n",
    "    try:\n",
    "        tmp=factor(tmp.simplify_full())\n",
    "    except:\n",
    "        pass\n",
    "    for num,i in enumerate(deg):\n",
    "        tmp*=x[num]^i\n",
    "    h5+=tmp\n",
    "h[0].append(h5)\n",
    "for deg in list6:\n",
    "    tmp=H\n",
    "    for num,i in enumerate(deg):\n",
    "        tmp=tmp.coefficient(x[num],i)\n",
    "    try:\n",
    "        tmp=factor(tmp.simplify_full())\n",
    "    except:\n",
    "        pass\n",
    "    for num,i in enumerate(deg):\n",
    "        tmp*=x[num]^i\n",
    "    h6+=tmp\n",
    "h[0].append(h6)"
   ]
  },
  {
   "cell_type": "markdown",
   "metadata": {},
   "source": [
    "これで6次までの展開が出来た。\n",
    "次にLie Transformationを行う。"
   ]
  },
  {
   "cell_type": "code",
   "execution_count": 13,
   "metadata": {},
   "outputs": [],
   "source": [
    "#Poisson括弧の定義\n",
    "n=2\n",
    "def poisson(f,g):\n",
    "    poisson_answer=0\n",
    "    for i in range(n):\n",
    "        poisson_answer+=f.diff(x[i])*g.diff(x[i+n])-g.diff(x[i])*f.diff(x[i+n])\n",
    "    return poisson_answer\n",
    "#コンビネーション\n",
    "def combination(n,k):\n",
    "    return factorial(n)/factorial(k)/factorial(n-k)"
   ]
  },
  {
   "cell_type": "code",
   "execution_count": 89,
   "metadata": {},
   "outputs": [
    {
     "name": "stdout",
     "output_type": "stream",
     "text": [
      "(0, 0, 0, 3)\n"
     ]
    },
    {
     "ename": "AttributeError",
     "evalue": "'Sequence_generic' object has no attribute 'rhs'",
     "output_type": "error",
     "traceback": [
      "\u001b[0;31m---------------------------------------------------------------------------\u001b[0m",
      "\u001b[0;31mAttributeError\u001b[0m                            Traceback (most recent call last)",
      "\u001b[0;32m<ipython-input-89-9b53b262d8c8>\u001b[0m in \u001b[0;36m<module>\u001b[0;34m()\u001b[0m\n\u001b[1;32m      7\u001b[0m     \u001b[0;32mif\u001b[0m \u001b[0;32mnot\u001b[0m \u001b[0;34m(\u001b[0m\u001b[0ms1\u001b[0m\u001b[0;34m==\u001b[0m\u001b[0mt1\u001b[0m \u001b[0;32mand\u001b[0m \u001b[0ms2\u001b[0m\u001b[0;34m==\u001b[0m\u001b[0mt2\u001b[0m\u001b[0;34m)\u001b[0m\u001b[0;34m:\u001b[0m\u001b[0;34m\u001b[0m\u001b[0m\n\u001b[1;32m      8\u001b[0m         \u001b[0mw_tmp\u001b[0m\u001b[0;34m=\u001b[0m\u001b[0mu\u001b[0m\u001b[0;34m*\u001b[0m\u001b[0mx1\u001b[0m\u001b[0;34m**\u001b[0m\u001b[0ms1\u001b[0m\u001b[0;34m*\u001b[0m\u001b[0mx2\u001b[0m\u001b[0;34m**\u001b[0m\u001b[0ms2\u001b[0m\u001b[0;34m*\u001b[0m\u001b[0my1\u001b[0m\u001b[0;34m**\u001b[0m\u001b[0mt1\u001b[0m\u001b[0;34m*\u001b[0m\u001b[0my2\u001b[0m\u001b[0;34m**\u001b[0m\u001b[0mt2\u001b[0m\u001b[0;34m\u001b[0m\u001b[0m\n\u001b[0;32m----> 9\u001b[0;31m         \u001b[0mt\u001b[0m\u001b[0;34m=\u001b[0m\u001b[0mfactor\u001b[0m\u001b[0;34m(\u001b[0m\u001b[0msolve\u001b[0m\u001b[0;34m(\u001b[0m\u001b[0mexpand\u001b[0m\u001b[0;34m(\u001b[0m\u001b[0mh\u001b[0m\u001b[0;34m[\u001b[0m\u001b[0mInteger\u001b[0m\u001b[0;34m(\u001b[0m\u001b[0;36m0\u001b[0m\u001b[0;34m)\u001b[0m\u001b[0;34m]\u001b[0m\u001b[0;34m[\u001b[0m\u001b[0mInteger\u001b[0m\u001b[0;34m(\u001b[0m\u001b[0;36m1\u001b[0m\u001b[0;34m)\u001b[0m\u001b[0;34m]\u001b[0m\u001b[0;34m+\u001b[0m\u001b[0mpoisson\u001b[0m\u001b[0;34m(\u001b[0m\u001b[0mh\u001b[0m\u001b[0;34m[\u001b[0m\u001b[0mInteger\u001b[0m\u001b[0;34m(\u001b[0m\u001b[0;36m0\u001b[0m\u001b[0;34m)\u001b[0m\u001b[0;34m]\u001b[0m\u001b[0;34m[\u001b[0m\u001b[0mInteger\u001b[0m\u001b[0;34m(\u001b[0m\u001b[0;36m0\u001b[0m\u001b[0;34m)\u001b[0m\u001b[0;34m]\u001b[0m\u001b[0;34m,\u001b[0m\u001b[0mw_tmp\u001b[0m\u001b[0;34m)\u001b[0m\u001b[0;34m)\u001b[0m\u001b[0;34m.\u001b[0m\u001b[0mcoefficient\u001b[0m\u001b[0;34m(\u001b[0m\u001b[0mx1\u001b[0m\u001b[0;34m,\u001b[0m\u001b[0ms1\u001b[0m\u001b[0;34m)\u001b[0m\u001b[0;34m.\u001b[0m\u001b[0mcoefficient\u001b[0m\u001b[0;34m(\u001b[0m\u001b[0mx2\u001b[0m\u001b[0;34m,\u001b[0m\u001b[0ms2\u001b[0m\u001b[0;34m)\u001b[0m\u001b[0;34m.\u001b[0m\u001b[0mcoefficient\u001b[0m\u001b[0;34m(\u001b[0m\u001b[0my1\u001b[0m\u001b[0;34m,\u001b[0m\u001b[0mt1\u001b[0m\u001b[0;34m)\u001b[0m\u001b[0;34m.\u001b[0m\u001b[0mcoefficient\u001b[0m\u001b[0;34m(\u001b[0m\u001b[0my2\u001b[0m\u001b[0;34m,\u001b[0m\u001b[0mt2\u001b[0m\u001b[0;34m)\u001b[0m\u001b[0;34m,\u001b[0m\u001b[0mu\u001b[0m\u001b[0;34m)\u001b[0m\u001b[0;34m.\u001b[0m\u001b[0mrhs\u001b[0m\u001b[0;34m(\u001b[0m\u001b[0;34m)\u001b[0m\u001b[0;34m)\u001b[0m\u001b[0;34m\u001b[0m\u001b[0m\n\u001b[0m\u001b[1;32m     10\u001b[0m         \u001b[0mw_tmp\u001b[0m\u001b[0;34m=\u001b[0m\u001b[0;34m(\u001b[0m\u001b[0mw_tmp\u001b[0m\u001b[0;34m)\u001b[0m\u001b[0;34m(\u001b[0m\u001b[0mu\u001b[0m\u001b[0;34m=\u001b[0m\u001b[0mt\u001b[0m\u001b[0;34m)\u001b[0m\u001b[0;34m\u001b[0m\u001b[0m\n\u001b[1;32m     11\u001b[0m         \u001b[0mw\u001b[0m\u001b[0;34m+=\u001b[0m\u001b[0mw_tmp\u001b[0m\u001b[0;34m\u001b[0m\u001b[0m\n",
      "\u001b[0;32m/Applications/SageMath-8.3.app/Contents/Resources/sage/local/lib/python2.7/site-packages/sage/structure/sequence.pyc\u001b[0m in \u001b[0;36m__getattr__\u001b[0;34m(self, name)\u001b[0m\n\u001b[1;32m    877\u001b[0m             \u001b[0;32mreturn\u001b[0m \u001b[0mself\u001b[0m\u001b[0;34m.\u001b[0m\u001b[0m__hash\u001b[0m\u001b[0;34m\u001b[0m\u001b[0m\n\u001b[1;32m    878\u001b[0m         \u001b[0;32melse\u001b[0m\u001b[0;34m:\u001b[0m\u001b[0;34m\u001b[0m\u001b[0m\n\u001b[0;32m--> 879\u001b[0;31m             \u001b[0;32mraise\u001b[0m \u001b[0mAttributeError\u001b[0m\u001b[0;34m(\u001b[0m\u001b[0;34m\"'Sequence_generic' object has no attribute '%s'\"\u001b[0m\u001b[0;34m%\u001b[0m\u001b[0mname\u001b[0m\u001b[0;34m)\u001b[0m\u001b[0;34m\u001b[0m\u001b[0m\n\u001b[0m\u001b[1;32m    880\u001b[0m \u001b[0mseq\u001b[0m \u001b[0;34m=\u001b[0m \u001b[0mSequence\u001b[0m\u001b[0;34m\u001b[0m\u001b[0m\n\u001b[1;32m    881\u001b[0m \u001b[0;34m\u001b[0m\u001b[0m\n",
      "\u001b[0;31mAttributeError\u001b[0m: 'Sequence_generic' object has no attribute 'rhs'"
     ]
    }
   ],
   "source": [
    "#i=1の場合を考える。\n",
    "w=0\n",
    "for s in list3:\n",
    "    u=var('u')\n",
    "    s1,s2,t1,t2=s\n",
    "    print(s)\n",
    "    if not (s1==t1 and s2==t2):\n",
    "        w_tmp=u*x1**s1*x2**s2*y1**t1*y2**t2\n",
    "        t=factor(solve(expand(h[0][1]+poisson(h[0][0],w_tmp)).coefficient(x1,s1).coefficient(x2,s2).coefficient(y1,t1).coefficient(y2,t2),u).rhs())\n",
    "        w_tmp=(w_tmp)(u=t)\n",
    "        w+=w_tmp"
   ]
  },
  {
   "cell_type": "code",
   "execution_count": 93,
   "metadata": {},
   "outputs": [
    {
     "data": {
      "text/html": [
       "<html><script type=\"math/tex; mode=display\">\\newcommand{\\Bold}[1]{\\mathbf{#1}}u y_{2}^{3}</script></html>"
      ],
      "text/plain": [
       "u*y2^3"
      ]
     },
     "metadata": {},
     "output_type": "display_data"
    }
   ],
   "source": [
    "#u[19]=factor(solve(expand(h[0][1]+poisson(h[0][0],w)).coefficient(x1,3),u[19],u)[0].rhs())\n",
    "show(w_tmp)"
   ]
  },
  {
   "cell_type": "code",
   "execution_count": 88,
   "metadata": {},
   "outputs": [
    {
     "data": {
      "text/plain": [
       "-3*I*(4*alpha + 1)^(3/2)*sqrt(alpha + 2)*u*y2^3/(alpha^2*omega^3) - 2*I*sqrt(2)*x1^3/omega^(7/2) - 3/8*I*sqrt(2)*(4*alpha + 1)^(3/2)*sqrt(alpha + 2)*x1*x2^2/(alpha^2*omega^(7/2)) + 6*sqrt(2)*x1^2*y1/omega^(7/2) + 3/8*sqrt(2)*(4*alpha + 1)^(3/2)*sqrt(alpha + 2)*x2^2*y1/(alpha^2*omega^(7/2)) + 6*I*sqrt(2)*x1*y1^2/omega^(7/2) - 2*sqrt(2)*y1^3/omega^(7/2) + 3/4*sqrt(2)*(4*alpha + 1)^(3/2)*sqrt(alpha + 2)*x1*x2*y2/(alpha^2*omega^(7/2)) + 3/4*I*sqrt(2)*(4*alpha + 1)^(3/2)*sqrt(alpha + 2)*x2*y1*y2/(alpha^2*omega^(7/2)) + 3/8*I*sqrt(2)*(4*alpha + 1)^(3/2)*sqrt(alpha + 2)*x1*y2^2/(alpha^2*omega^(7/2)) - 3/8*sqrt(2)*(4*alpha + 1)^(3/2)*sqrt(alpha + 2)*y1*y2^2/(alpha^2*omega^(7/2)) - I*sqrt(2)*x1^3/(alpha*omega^(7/2)) + 3*sqrt(2)*x1^2*y1/(alpha*omega^(7/2)) + 3*I*sqrt(2)*x1*y1^2/(alpha*omega^(7/2)) - sqrt(2)*y1^3/(alpha*omega^(7/2)) - 1/8*I*sqrt(2)*x1^3/(alpha^2*omega^(7/2)) + 3/8*sqrt(2)*x1^2*y1/(alpha^2*omega^(7/2)) + 3/8*I*sqrt(2)*x1*y1^2/(alpha^2*omega^(7/2)) - 1/8*sqrt(2)*y1^3/(alpha^2*omega^(7/2))"
      ]
     },
     "execution_count": 88,
     "metadata": {},
     "output_type": "execute_result"
    }
   ],
   "source": [
    "expand(h[0][1]+poisson(h[0][0],w_tmp))"
   ]
  },
  {
   "cell_type": "code",
   "execution_count": 82,
   "metadata": {},
   "outputs": [
    {
     "data": {
      "text/plain": [
       "-1/8*I*sqrt(2)*(4*alpha + 1)^2*x1^3/(alpha^2*omega^(7/2)) - 3/8*I*sqrt(2)*(4*alpha + 1)^(3/2)*sqrt(alpha + 2)*x1*x2^2/(alpha^2*omega^(7/2)) + 3/8*sqrt(2)*(4*alpha + 1)^2*x1^2*y1/(alpha^2*omega^(7/2)) + 3/8*sqrt(2)*(4*alpha + 1)^(3/2)*sqrt(alpha + 2)*x2^2*y1/(alpha^2*omega^(7/2)) + 3/8*I*sqrt(2)*(4*alpha + 1)^2*x1*y1^2/(alpha^2*omega^(7/2)) - 1/8*sqrt(2)*(4*alpha + 1)^2*y1^3/(alpha^2*omega^(7/2)) + 3/4*sqrt(2)*(4*alpha + 1)^(3/2)*sqrt(alpha + 2)*x1*x2*y2/(alpha^2*omega^(7/2)) + 3/4*I*sqrt(2)*(4*alpha + 1)^(3/2)*sqrt(alpha + 2)*x2*y1*y2/(alpha^2*omega^(7/2)) + 3/8*I*sqrt(2)*(4*alpha + 1)^(3/2)*sqrt(alpha + 2)*x1*y2^2/(alpha^2*omega^(7/2)) - 3/8*sqrt(2)*(4*alpha + 1)^(3/2)*sqrt(alpha + 2)*y1*y2^2/(alpha^2*omega^(7/2))"
      ]
     },
     "execution_count": 82,
     "metadata": {},
     "output_type": "execute_result"
    }
   ],
   "source": [
    "h[0][1]"
   ]
  },
  {
   "cell_type": "code",
   "execution_count": null,
   "metadata": {},
   "outputs": [],
   "source": []
  }
 ],
 "metadata": {
  "kernelspec": {
   "display_name": "SageMath 8.3",
   "language": "",
   "name": "sagemath"
  },
  "language_info": {
   "codemirror_mode": {
    "name": "ipython",
    "version": 2
   },
   "file_extension": ".py",
   "mimetype": "text/x-python",
   "name": "python",
   "nbconvert_exporter": "python",
   "pygments_lexer": "ipython2",
   "version": "2.7.15"
  }
 },
 "nbformat": 4,
 "nbformat_minor": 2
}
