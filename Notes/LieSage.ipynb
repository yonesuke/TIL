{
 "cells": [
  {
   "cell_type": "code",
   "execution_count": 1,
   "metadata": {},
   "outputs": [],
   "source": [
    "import itertools\n",
    "max_degree=4\n",
    "n=2\n",
    "gen=list(range(max_degree+4))\n",
    "gen_lists=itertools.product(gen,repeat=4)\n",
    "list_of_degree=[[] for _ in range(max_degree+2)]\n",
    "for gen_list in gen_lists:\n",
    "    sum_of_degree=sum(gen_list)\n",
    "    if 2<=sum_of_degree<=max_degree+3:\n",
    "        list_of_degree[sum(gen_list)-2].append(gen_list)"
   ]
  },
  {
   "cell_type": "code",
   "execution_count": 26,
   "metadata": {},
   "outputs": [],
   "source": [
    "#特定の次数の項を取り出す\n",
    "def extract_degree(f,x,degree):\n",
    "    answer=f\n",
    "    for num,i in enumerate(degree):\n",
    "        answer=answer.coefficient(x[num],i)\n",
    "    try:\n",
    "        answer=factor(answer.simplify_full())\n",
    "    except:\n",
    "        pass\n",
    "    return answer\n",
    "#係数にベキ式を追加する\n",
    "def recover_term(term,x,degree):\n",
    "    answer=term\n",
    "    for num,i in enumerate(degree):\n",
    "        answer*=x[num]^i\n",
    "    return answer\n",
    "\n",
    "#Poisson括弧の定義\n",
    "def poisson(f,g):\n",
    "    if f==0 or g==0:\n",
    "        return 0\n",
    "    else:\n",
    "        poisson_answer=0\n",
    "        for i in range(n):\n",
    "            poisson_answer+=f.diff(x[i])*g.diff(x[i+n])-g.diff(x[i])*f.diff(x[i+n])\n",
    "        return poisson_answer\n",
    "#コンビネーション\n",
    "#nCkの計算\n",
    "def combination(n,k):\n",
    "    return factorial(n)/factorial(k)/factorial(n-k)\n",
    "\n",
    "#h[i][j]の更新式\n",
    "def lie_element(i,j):\n",
    "    answer=h[i-1][j+1]\n",
    "    for k in range(j+1):\n",
    "        answer+=combination(j,k)*poisson(h[i-1][j-k],w[k+1])\n",
    "\n",
    "#\n",
    "def EqHofN(n,h,w):\n",
    "    tmp=0\n",
    "    for i in range(1,n):\n",
    "        for k in range(n-i+1):\n",
    "            tmp+=poisson(h[k][n-i-k],w[i])\n",
    "    return tmp+h[0][n]"
   ]
  },
  {
   "cell_type": "code",
   "execution_count": 19,
   "metadata": {},
   "outputs": [],
   "source": [
    "var('x1,x2,y1,y2,p1,p2,q1,q2')\n",
    "var('alpha,omega,delta')\n",
    "var('p_r,p_z,r,z')\n",
    "var('a,b,c')\n",
    "x=[x1,x2,y1,y2]"
   ]
  },
  {
   "cell_type": "code",
   "execution_count": 20,
   "metadata": {},
   "outputs": [],
   "source": [
    "a=omega^(3/2)*alpha/(4*alpha+1)\n",
    "b=omega^2*alpha/(4*alpha+1)\n",
    "c=omega^(3/2)*alpha^(1/2)*(alpha+2)^(1/4)/(sqrt(2)*(4*alpha+1)^(3/4))"
   ]
  },
  {
   "cell_type": "markdown",
   "metadata": {},
   "source": [
    "ハミルトニアンの定義"
   ]
  },
  {
   "cell_type": "code",
   "execution_count": 21,
   "metadata": {},
   "outputs": [
    {
     "data": {
      "text/html": [
       "<html><script type=\"math/tex; mode=display\">\\newcommand{\\Bold}[1]{\\mathbf{#1}}\\frac{1}{4} \\, p_{r}^{2} + \\frac{{\\left(\\alpha + 2\\right)} p_{z}^{2}}{4 \\, \\alpha} + \\frac{\\omega^{2}}{4 \\, r^{2}} - \\frac{2}{\\sqrt{r^{2} + z^{2}}} - \\frac{1}{2 \\, \\alpha r}</script></html>"
      ],
      "text/plain": [
       "1/4*p_r^2 + 1/4*(alpha + 2)*p_z^2/alpha + 1/4*omega^2/r^2 - 2/sqrt(r^2 + z^2) - 1/2/(alpha*r)"
      ]
     },
     "metadata": {},
     "output_type": "display_data"
    }
   ],
   "source": [
    "H=p_r*p_r/4+omega*omega/(4*r*r)+(alpha+2)*p_z*p_z/(4*alpha)-1/(2*alpha*r)-2/sqrt(r*r+z*z);show(H)"
   ]
  },
  {
   "cell_type": "markdown",
   "metadata": {},
   "source": [
    "線形変換してテイラー展開"
   ]
  },
  {
   "cell_type": "code",
   "execution_count": 22,
   "metadata": {},
   "outputs": [],
   "source": [
    "H=H.substitute(r=a*q1+b,p_r=p1/a,z=c*q2,p_z=p2/c)\n",
    "\n",
    "H=taylor(H,(q1,0),(q2,0),(p1,0),(p2,0),max_degree)\n",
    "\n",
    "H=simplify(expand(H.substitute(p1=(x1-I*y1)/sqrt(2),q1=(-I*x1+y1)/sqrt(2),p2=(x2-I*y2)/sqrt(2),q2=(-I*x2+y2)/sqrt(2))))"
   ]
  },
  {
   "cell_type": "markdown",
   "metadata": {},
   "source": [
    "ハミルトニアンを次数ごとに分解"
   ]
  },
  {
   "cell_type": "code",
   "execution_count": 30,
   "metadata": {},
   "outputs": [],
   "source": [
    "h=[[0 for _ in range(max_degree)] for _ in range(max_degree)]\n",
    "sum_of_degree=0\n",
    "for list_of_degree_n in list_of_degree[:max_degree-1]:\n",
    "    #n次の次数のハミルトニアンを考える\n",
    "    hamiltonian_of_degree_n=0\n",
    "    for degree in list_of_degree_n:\n",
    "        tmp=extract_degree(H,x,degree)\n",
    "        for num,i in enumerate(degree):\n",
    "            tmp*=x[num]^i\n",
    "        hamiltonian_of_degree_n+=tmp\n",
    "    h[0][sum_of_degree]=hamiltonian_of_degree_n\n",
    "    sum_of_degree+=1"
   ]
  },
  {
   "cell_type": "markdown",
   "metadata": {},
   "source": [
    "これで6次までの展開が出来た。\n",
    "次にLie Transformationを行う。"
   ]
  },
  {
   "cell_type": "code",
   "execution_count": 31,
   "metadata": {},
   "outputs": [],
   "source": [
    "w=[0 for _ in range(max_degree)]\n",
    "for i in range(1,max_degree):\n",
    "    #はじめにwを求める\n",
    "    for s in list_of_degree[i]:\n",
    "        s1,s2,t1,t2=s\n",
    "        if s[:n]!=s[n:]:\n",
    "            u=var('u')\n",
    "            w_tmp=recover_term(u,x,s)\n",
    "            #ここでwを求める\n",
    "            #ここはi=1の更新式だけ\n",
    "            eqn=expand(EqHofN(i,h,w)+poisson(h[0][0],w_tmp))\n",
    "            t=solve(extract_degree(eqn,x,s),u)[0].rhs()\n",
    "            try:\n",
    "                t=factor(t)\n",
    "            except:\n",
    "                pass\n",
    "            w_tmp=(w_tmp)(u=t)\n",
    "            w[i]+=w_tmp\n",
    "    #次にhの要素を求める"
   ]
  },
  {
   "cell_type": "code",
   "execution_count": null,
   "metadata": {},
   "outputs": [],
   "source": []
  }
 ],
 "metadata": {
  "kernelspec": {
   "display_name": "SageMath 8.3",
   "language": "",
   "name": "sagemath"
  },
  "language_info": {
   "codemirror_mode": {
    "name": "ipython",
    "version": 2
   },
   "file_extension": ".py",
   "mimetype": "text/x-python",
   "name": "python",
   "nbconvert_exporter": "python",
   "pygments_lexer": "ipython2",
   "version": "2.7.15"
  }
 },
 "nbformat": 4,
 "nbformat_minor": 2
}
