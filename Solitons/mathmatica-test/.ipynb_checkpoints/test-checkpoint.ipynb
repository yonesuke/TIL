{
 "cells": [
  {
   "cell_type": "code",
   "execution_count": null,
   "metadata": {},
   "outputs": [],
   "source": [
    "JupyterImageResolution = 84;\n",
    "JupyterOutTextForm = \"TeX\";\n",
    "\n",
    "TeX[x_] := ToString[TeXForm[x]]"
   ]
  },
  {
   "cell_type": "code",
   "execution_count": null,
   "metadata": {},
   "outputs": [
    {
     "data": {
      "text/html": [
       "<div><img alt=\"Output\" src=\"data:image/png;base64,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\" width=\"45\"></div>"
      ]
     },
     "execution_count": 4,
     "metadata": {
      "text/html": []
     },
     "output_type": "execute_result"
    }
   ],
   "source": [
    "D[D[f[x],x],x]"
   ]
  },
  {
   "cell_type": "code",
   "execution_count": null,
   "metadata": {},
   "outputs": [
    {
     "data": {
      "text/html": [
       "<div>$$&#92;&#98;&#101;&#103;&#105;&#110;&#123;&#99;&#97;&#115;&#101;&#115;&#125;&#10;&#32;&#92;&#102;&#114;&#97;&#99;&#123;&#40;&#45;&#49;&#41;&#94;&#110;&#125;&#123;&#110;&#33;&#125;&#32;&#38;&#32;&#110;&#92;&#103;&#101;&#113;&#32;&#48;&#32;&#92;&#92;&#10;&#32;&#48;&#32;&#38;&#32;&#92;&#116;&#101;&#120;&#116;&#123;&#84;&#114;&#117;&#101;&#125;&#10;&#92;&#101;&#110;&#100;&#123;&#99;&#97;&#115;&#101;&#115;&#125;$$</div>"
      ]
     },
     "execution_count": 5,
     "metadata": {
      "text/html": []
     },
     "output_type": "execute_result"
    }
   ],
   "source": [
    "SeriesCoefficient[Exp[-x], {x, 0, n}]//TeX"
   ]
  },
  {
   "cell_type": "code",
   "execution_count": null,
   "metadata": {},
   "outputs": [],
   "source": [
    "fn[n,theta]:=f[n]*Exp[I n*theta]"
   ]
  },
  {
   "cell_type": "code",
   "execution_count": null,
   "metadata": {},
   "outputs": [
    {
     "data": {
      "text/html": [
       "<div>$$&#92;&#98;&#101;&#103;&#105;&#110;&#123;&#99;&#97;&#115;&#101;&#115;&#125;&#10;&#32;&#92;&#102;&#114;&#97;&#99;&#123;&#92;&#112;&#105;&#32;&#94;&#50;&#125;&#123;&#51;&#125;&#32;&#38;&#32;&#110;&#61;&#48;&#32;&#92;&#92;&#10;&#32;&#92;&#102;&#114;&#97;&#99;&#123;&#40;&#45;&#49;&#41;&#94;&#110;&#32;&#40;&#50;&#43;&#105;&#32;&#110;&#41;&#125;&#123;&#110;&#94;&#50;&#125;&#32;&#38;&#32;&#92;&#116;&#101;&#120;&#116;&#123;&#84;&#114;&#117;&#101;&#125;&#10;&#92;&#101;&#110;&#100;&#123;&#99;&#97;&#115;&#101;&#115;&#125;$$</div>"
      ]
     },
     "execution_count": 19,
     "metadata": {
      "text/html": []
     },
     "output_type": "execute_result"
    }
   ],
   "source": [
    "FourierCoefficient[t^2 + t, t, n]//TeX"
   ]
  },
  {
   "cell_type": "code",
   "execution_count": null,
   "metadata": {},
   "outputs": [],
   "source": [
    "f[theta]:=Sum[fn[n,theta]*Exp[I n*theta], {n, -Infinity, Infinity}]"
   ]
  },
  {
   "cell_type": "code",
   "execution_count": null,
   "metadata": {},
   "outputs": [
    {
     "data": {
      "text/html": [
       "<div>$$&#48;$$</div>"
      ]
     },
     "execution_count": 23,
     "metadata": {
      "text/html": []
     },
     "output_type": "execute_result"
    }
   ],
   "source": [
    "Sum[Integrate[fn[n,theta]*Exp[I 5*theta], {theta, 0, 2*Pi}],{n, -Infinity, Infinity}]"
   ]
  },
  {
   "cell_type": "code",
   "execution_count": null,
   "metadata": {},
   "outputs": [
    {
     "data": {
      "text/html": [
       "<div>$$&#48;$$</div>"
      ]
     },
     "execution_count": 10,
     "metadata": {
      "text/html": []
     },
     "output_type": "execute_result"
    }
   ],
   "source": [
    "Integrate[Exp[I 5*theta], {theta, 0, 2*Pi}]"
   ]
  },
  {
   "cell_type": "code",
   "execution_count": null,
   "metadata": {},
   "outputs": [
    {
     "data": {
      "text/html": [
       "<div><img alt=\"Output\" src=\"data:image/png;base64,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\" width=\"140\"></div>"
      ]
     },
     "execution_count": 21,
     "metadata": {
      "text/html": []
     },
     "output_type": "execute_result"
    }
   ],
   "source": [
    "f[theta]"
   ]
  },
  {
   "cell_type": "code",
   "execution_count": null,
   "metadata": {},
   "outputs": [],
   "source": []
  }
 ],
 "metadata": {
  "kernelspec": {
   "display_name": "Wolfram Language 12",
   "language": "Wolfram Language",
   "name": "wolframlanguage12"
  },
  "language_info": {
   "name": ""
  }
 },
 "nbformat": 4,
 "nbformat_minor": 2
}
